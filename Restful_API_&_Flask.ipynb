{
  "cells": [
    {
      "cell_type": "markdown",
      "metadata": {
        "id": "3hLudHN4PB01"
      },
      "source": [
        "1. What is a RESTful API ?\n",
        "- A RESTful API (Representational State Transfer Application Programming Interface) is a web service that follows the principles of REST architecture. It allows different applications to communicate over the internet using standard HTTP methods.\n",
        "- RESTful APIs provide a standardized way for applications to communicate over the web, making them a popular choice for web services"
      ]
    },
    {
      "cell_type": "markdown",
      "metadata": {
        "id": "The1Up60P7mH"
      },
      "source": [
        "2. Explain the concept of API specification ?\n",
        "- API specification is a detailed document or contract that defines how a client can interact with an API. It serves as a blueprint for developers, outlining the structure, behavior, and requirements of the API.\n",
        "- An API specification defines how clients can interact with the API, what data can be sent and received, and the expected responses"
      ]
    },
    {
      "cell_type": "markdown",
      "metadata": {
        "id": "gpvetdCNVgA7"
      },
      "source": [
        "3. What is Flask, and why is it popular for building APIs ?\n",
        "- Flask is a lightweight and flexible micro web framework for Python, designed to make web development quick and easy. Its popularity for building APIs stems from its simplicity, ease of use, and the ability to scale from small applications to more complex systems, making it ideal for RESTful API development."
      ]
    },
    {
      "cell_type": "markdown",
      "metadata": {
        "id": "OjNCXss3Vw1h"
      },
      "source": [
        "4. What is routing in Flask ?\n",
        "- Routing in Flask is a fundamental feature that allows you to define how your application responds to different URLs and HTTP methods. It provides a way to create dynamic and interactive web applications by mapping user requests to specific functions, making it easier to manage and organize your code."
      ]
    },
    {
      "cell_type": "markdown",
      "metadata": {
        "id": "aD1I234mXCXW"
      },
      "source": [
        "5. How do you create a simple Flask application ?\n",
        "- First, you need to install Flask. You can do this using pip. Open your terminal or command prompt and run\n",
        "- Create a New Directory: Create a new directory for your Flask application.\n",
        "-Create a Python File: Create a new Python file (e.g., app.py) in your project directory.\n",
        "- Write the Flask Application Code: Open app.py in your favorite text editor and add the following code.\n",
        "- Run the Application: In your terminal, navigate to the directory where app.py is located and run the following command."
      ]
    },
    {
      "cell_type": "markdown",
      "metadata": {
        "id": "gQZcOsbZYZv0"
      },
      "source": [
        "6. What are HTTP methods used in RESTful APIs ?\n",
        "-  HTTP methods used in RESTful APIs are :\n",
        "- GET\tRead data\n",
        "- POST\tCreate data\n",
        "- PUT\tUpdate data\n",
        "- PATCH\tModify data\n",
        "- DELETE\tRemove data"
      ]
    },
    {
      "cell_type": "markdown",
      "metadata": {
        "id": "ScES-u9UpQsm"
      },
      "source": [
        "7. What is the purpose of the @app.route() decorator in Flask ?\n",
        "- The @app.route() decorator is used to map a URL path (route) to a specific function that will be executed when a user accesses that route. It provides a clear and organized way to manage routes, making it easier to build and maintain web applications."
      ]
    },
    {
      "cell_type": "markdown",
      "metadata": {
        "id": "o1cuy2WzVbAt"
      },
      "source": []
    },
    {
      "cell_type": "markdown",
      "metadata": {
        "id": "4YtsskJx7SgT"
      },
      "source": [
        "8. What is the difference between GET and POST HTTP methods ?\n",
        "- The difference between GET and POST HTTP methods are ▶\n",
        "- GET is used to retrieve data from a server without modifying it\n",
        "- POST is used to send data to the server to create or update resources.\n",
        "- GET requests append data to the URL, making them less secure for sensitive information\n",
        "- POST requests include data in the request body,keeping it hidden from the URL and more secure\n",
        "- GET: Limited by URL length\n",
        "- POST: Can handle larger amounts of data since it is sent in the body of the request"
      ]
    },
    {
      "cell_type": "markdown",
      "metadata": {
        "id": "6a_kaXnm-G7w"
      },
      "source": [
        "9. How do you handle errors in Flask APIs ?\n",
        "\n",
        "- You can define custom error handlers using the @app.errorhandler() decorator.\n",
        "- The abort() function allows you to immediately stop request processing and return an error response.\n",
        "- For input validation, use libraries like marshmallow or pydantic. Handle validation errors gracefully.\n",
        "- Use try-except blocks inside route functions to handle predictable errors like KeyError"
      ]
    },
    {
      "cell_type": "markdown",
      "metadata": {
        "id": "1cqaC4i_CY75"
      },
      "source": [
        "10. How do you connect Flask to a SQL database ?\n",
        "- Install Flask and Flask-SQLAlchemy.\n",
        "- Set up your app and connect it to a database.\n",
        "- Create a model to define your table.\n",
        "- Use db.create_all() to create the database.\n",
        "- Add, read, update, and delete data using db.session"
      ]
    },
    {
      "cell_type": "markdown",
      "metadata": {
        "id": "GlVWIpIuFZFE"
      },
      "source": [
        "11. What is the role of Flask-SQLAlchemy ?\n",
        "- Flask-SQLAlchemy is a Flask extension that makes it easier to use SQLAlchemy (a popular Python SQL toolkit) with Flask. It simplifies database interactions by integrating SQLAlchemy's powerful features into Flask applications."
      ]
    },
    {
      "cell_type": "markdown",
      "metadata": {
        "id": "BMFIKKHbH9q9"
      },
      "source": [
        "12. What are Flask blueprints, and how are they useful ?\n",
        "\n",
        "- Flask blueprints are a way to organize your Flask application into modular components, allowing you to group related routes, templates, and static files. They enhance maintainability and scalability by enabling developers to structure their applications more effectively, making it easier to manage complex projects."
      ]
    },
    {
      "cell_type": "markdown",
      "metadata": {
        "id": "kM5k4sfeITnk"
      },
      "source": [
        "13. What is the purpose of Flask's request object ?\n",
        "-  Flask request object is used to handle incoming HTTP requests. It provides a way to access data sent by the client (such as form data, query parameters, headers, and files) and to interact with the request context."
      ]
    },
    {
      "cell_type": "markdown",
      "metadata": {
        "id": "tn3NVSZAKAKT"
      },
      "source": [
        "14. How do you create a RESTful API endpoint using Flask ?\n",
        "- Install Flask → Ensure Flask is installed (pip install flask).\n",
        "- Set Up Flask App → Initialize a Flask application.\n",
        "- Define API Endpoints (@app.route()) → Create routes for handling HTTP requests.\n",
        "- Handle Different HTTP Methods (GET, POST, etc.) → Implement functions to process requests.\n",
        "- Return JSON Responses (jsonify()) → Send structured responses to clients."
      ]
    },
    {
      "cell_type": "markdown",
      "metadata": {
        "id": "ObtvCAqaM_Qa"
      },
      "source": [
        "15. What is the purpose of Flask's jsonify() function ?\n",
        "Flask’s jsonify() function is used to convert Python data structures (like dictionaries and lists) into JSON format and return them as HTTP responses. It is commonly used in RESTful APIs to send structured data to clients."
      ]
    },
    {
      "cell_type": "markdown",
      "metadata": {
        "id": "cQ0peiUDNa-0"
      },
      "source": [
        " 16. Explain Flask’s url_for() function ?\n",
        " - The url_for() function in Flask is a valuable tool for generating dynamic URLs based on the names of your view functions and their parameters. It enhances code maintainability, reduces the risk of errors from hardcoded URLs, and makes it easier to manage changes in your application's routing structure."
      ]
    },
    {
      "cell_type": "markdown",
      "metadata": {
        "id": "tLNlsnhoN8Ri"
      },
      "source": [
        "17. How does Flask handle static files (CSS, JavaScript, etc.) ?\n",
        "- Flask assumes that all static files are located in a folder named static/ inside the project directory.\n",
        "-Use url_for('static', filename='path/to/file') to link static files in templates.\n",
        "- You can customize the static folder and URL path using static_folder and static_url_path.\n",
        "- Flask allows manual serving of static files using send_from_directory():"
      ]
    },
    {
      "cell_type": "markdown",
      "metadata": {
        "id": "haHOUkvgPuXu"
      },
      "source": [
        "18. What is an API specification, and how does it help in building a Flask API ?\n",
        "- An API specification is a detailed description that outlines how an API should behave. It defines the endpoints, request and response formats, error handling, and other important aspects of the API\n",
        "- API Specification Helps in Building a Flask API by ▶\n",
        " - An API specification provides a clear and consistent understanding of how the API should function.\n",
        " - It serves as documentation for the API, making it easier for developers to integrate with the API without needing to contact the API provider for clarification.\n",
        " -An API specification can be used to create automated tests that validate the API's behavior against the defined expectations."
      ]
    },
    {
      "cell_type": "markdown",
      "metadata": {
        "id": "Wg8DebSWR6Z9"
      },
      "source": [
        "19. What are HTTP status codes, and why are they important in a Flask API ?\n",
        "- HTTP status codes are three-digit numerical responses sent by a server to indicate the result of an HTTP request.\n",
        "- HTTP status codes are important in a Flask API because they povide ⏩\n",
        " - Standardized responses to client requests, indicating the success or failure of those requests.\n",
        " - They help clients understand the outcome of their interactions with the API, facilitating better error handling\n",
        " - Improving overall communication between the client and server."
      ]
    },
    {
      "cell_type": "markdown",
      "metadata": {
        "id": "FrT8UnGhTeuI"
      },
      "source": [
        "20. How do you handle POST requests in Flask ?\n",
        "- To handle POST requests in Flask, you need to define a route using the @app.route() decorator and specify the methods allowed, including POST. Inside the route function, you can access the incoming data using request.form for form data or request.json for JSON data, allowing you to process the request accordingly."
      ]
    },
    {
      "cell_type": "markdown",
      "metadata": {
        "id": "VrmDNdIMUmPe"
      },
      "source": [
        "21. How would you secure a Flask API ?\n",
        "\n",
        "✳ Here are some techniques to secure your Flask API:\n",
        "- Always use HTTPS (instead of HTTP) to encrypt data transmitted between the client and server.\n",
        "- Ensure only authorized users can access your API.\n",
        "- Ensure users have the right permissions to access specific resources.\n",
        "- Monitor your API for suspicious activity and log errors for debugging.\n",
        "- Validate and sanitize user input."
      ]
    },
    {
      "cell_type": "markdown",
      "metadata": {
        "id": "3zx40C7TWNOg"
      },
      "source": [
        "22. What is the significance of the Flask-RESTful extension ?\n",
        "- Flask-RESTful significantly enhances the Flask framework by providing essential tools for building RESTful APIs. Its resource-oriented design, integration with HTTP methods, and support for request parsing and error handling make it a valuable choice for developers looking to create efficient and maintainable APIs."
      ]
    },
    {
      "cell_type": "markdown",
      "metadata": {
        "id": "PZ2y0tMYWm8u"
      },
      "source": [
        "23. What is the role of Flask’s session object ?\n",
        "- Flask session object is used to store data specific to a user.\n",
        "- Data in the session is encrypted using a secret key\n",
        "- It supports storing, retrieving, and clearing session data\n",
        "- It keeps track of user-specific data while they browse different pages"
      ]
    },
    {
      "cell_type": "markdown",
      "metadata": {
        "id": "Fc7D9ngkZ6Dn"
      },
      "source": [
        "# PRACTICAL QUESTION"
      ]
    },
    {
      "cell_type": "markdown",
      "metadata": {
        "id": "lPIVMKM5V0yj"
      },
      "source": [
        "1. How do you create a basic Flask application ?\n",
        "1. Install Flask using pip\n",
        "2. Create Project Structure looks like this:\n",
        "- /my_flask_app\n",
        "- │── app.py    # Main application file\n",
        "3. Write the Flask Application Code: Open app.py and add the following code :"
      ]
    },
    {
      "cell_type": "code",
      "execution_count": null,
      "metadata": {
        "id": "YMQO8FM-jAv6"
      },
      "outputs": [],
      "source": [
        "from flask import Flask\n",
        "\n",
        "app = Flask(__name__)\n",
        "\n",
        "@app.route('/')\n",
        "def home():\n",
        "    return \"Hello, Flask!\"\n",
        "\n",
        "if __name__ == '__main__':\n",
        "    app.run(debug=True)\n"
      ]
    },
    {
      "cell_type": "markdown",
      "metadata": {
        "id": "u5cnWpu4CRcQ"
      },
      "source": [
        "4. Run the Flask Application: In your terminal, navigate to the directory where app.py is located and run:\n",
        "- python app.py"
      ]
    },
    {
      "cell_type": "markdown",
      "metadata": {
        "id": "HwmKMbMBj1eR"
      },
      "source": [
        "2. How do you serve static files like images or CSS in Flask ?\n",
        "- In Flask, static files such as images, CSS, and JavaScript are served from a folder named \"static\" located in the root directory of your project. You can access these files using the URL path /static/<filename>, where <filename> is the name of your static file.\n",
        "1. Create a Static Directory: In your project root, create a folder named static. This is where you will store all your static files, such as images, CSS, and JavaScript."
      ]
    },
    {
      "cell_type": "code",
      "execution_count": null,
      "metadata": {
        "id": "DJ6iiikMm_Yo"
      },
      "outputs": [],
      "source": [
        "your_project/\n",
        "│\n",
        "├── app.py\n",
        "├── static/\n",
        "│   ├── css/\n",
        "│   │   └── styles.css\n",
        "│   ├── images/\n",
        "│   │   └── logo.png\n",
        "│   └── js/\n",
        "│       └── script.js\n",
        "└── templates/\n",
        "    └── index.html"
      ]
    },
    {
      "cell_type": "markdown",
      "metadata": {
        "id": "rfjHd6JJ9xPV"
      },
      "source": [
        "2. Serving Static Files in Flask :\n",
        " - You can access static files in your HTML templates using the url_for() function.\n",
        " - Example HTML Template: In your index.html file, you can include static files like this:"
      ]
    },
    {
      "cell_type": "code",
      "execution_count": null,
      "metadata": {
        "id": "MpkYE75logLk"
      },
      "outputs": [],
      "source": [
        "<!DOCTYPE html>\n",
        "<html lang=\"en\">\n",
        "<head>\n",
        "    <meta charset=\"UTF-8\">\n",
        "    <meta name=\"viewport\" content=\"width=device-width, initial-scale=1.0\">\n",
        "    <link rel=\"stylesheet\" href=\"{{ url_for('static', filename='css/styles.css') }}\">\n",
        "    <title>Static Files Example</title>\n",
        "</head>\n",
        "<body>\n",
        "    <h1>Welcome to My Flask App</h1>\n",
        "    <img src=\"{{ url_for('static', filename='images/logo.png') }}\" alt=\"Logo\">\n",
        "    <script src=\"{{ url_for('static', filename='js/script.js') }}\"></script>\n",
        "</body>\n",
        "</html>"
      ]
    },
    {
      "cell_type": "markdown",
      "metadata": {
        "id": "orw0wV9GozQo"
      },
      "source": [
        "3. Here’s how your app.py might look:"
      ]
    },
    {
      "cell_type": "code",
      "execution_count": null,
      "metadata": {
        "id": "SE2ez0Aro8AZ"
      },
      "outputs": [],
      "source": [
        "from flask import Flask, render_template\n",
        "\n",
        "app = Flask(__name__)\n",
        "\n",
        "@app.route('/')\n",
        "def home():\n",
        "    return render_template('index.html')\n",
        "\n",
        "if __name__ == '__main__':\n",
        "    app.run(debug=True)"
      ]
    },
    {
      "cell_type": "markdown",
      "metadata": {
        "id": "2TlmB_U4pGDx"
      },
      "source": [
        " 4. Accessing Static Files :"
      ]
    },
    {
      "cell_type": "code",
      "execution_count": null,
      "metadata": {
        "id": "W9QJGnd9pJxe"
      },
      "outputs": [],
      "source": [
        "python app.py\n"
      ]
    },
    {
      "cell_type": "markdown",
      "metadata": {
        "id": "-VoG5mEHpOrn"
      },
      "source": [
        " 3. How do you define different routes with different HTTP methods in Flask ?\n",
        "- Here how to define routes with different HTTP methods in Flask:"
      ]
    },
    {
      "cell_type": "code",
      "execution_count": null,
      "metadata": {
        "colab": {
          "background_save": true,
          "base_uri": "https://localhost:8080/"
        },
        "collapsed": true,
        "id": "TzgadiJWsPuP",
        "outputId": "663520e1-884c-4948-adb9-88766db9a935"
      },
      "outputs": [
        {
          "name": "stdout",
          "output_type": "stream",
          "text": [
            " * Serving Flask app '__main__'\n",
            " * Debug mode: on\n"
          ]
        },
        {
          "name": "stderr",
          "output_type": "stream",
          "text": [
            "INFO:werkzeug:\u001b[31m\u001b[1mWARNING: This is a development server. Do not use it in a production deployment. Use a production WSGI server instead.\u001b[0m\n",
            " * Running on http://127.0.0.1:5000\n",
            "INFO:werkzeug:\u001b[33mPress CTRL+C to quit\u001b[0m\n",
            "INFO:werkzeug: * Restarting with stat\n"
          ]
        }
      ],
      "source": [
        "from flask import Flask, request, jsonify\n",
        "\n",
        "app = Flask(__name__)\n",
        "\n",
        "# Route for handling GET requests\n",
        "@app.route('/example', methods=['GET'])\n",
        "def get_example():\n",
        "    return jsonify(message=\"This is a GET request\")\n",
        "\n",
        "# Route for handling POST requests\n",
        "@app.route('/example', methods=['POST'])\n",
        "def post_example():\n",
        "    data = request.json\n",
        "    return jsonify(message=\"This is a POST request\", data=data)\n",
        "\n",
        "# Route for handling PUT requests\n",
        "@app.route('/example', methods=['PUT'])\n",
        "def put_example():\n",
        "    data = request.json\n",
        "    return jsonify(message=\"This is a PUT request\", data=data)\n",
        "\n",
        "# Route for handling DELETE requests\n",
        "@app.route('/example', methods=['DELETE'])\n",
        "def delete_example():\n",
        "    return jsonify(message=\"This is a DELETE request\")\n",
        "\n",
        "if __name__ == '__main__':\n",
        "    app.run(debug=True)"
      ]
    },
    {
      "cell_type": "markdown",
      "metadata": {
        "id": "PzU6YNmEs-P8"
      },
      "source": [
        "4. How do you render HTML templates in Flask ?\n",
        "- Create a Flask Application: Start by setting up a basic Flask application."
      ]
    },
    {
      "cell_type": "code",
      "execution_count": null,
      "metadata": {
        "id": "fMX8ULFqttjw"
      },
      "outputs": [],
      "source": [
        "from flask import Flask, render_template\n",
        "\n",
        "app = Flask(__name__)"
      ]
    },
    {
      "cell_type": "markdown",
      "metadata": {
        "id": "fCkWwLArt427"
      },
      "source": [
        "- Set Up the Templates Directory: Create a folder named templates in your project directory. This is where you will store your HTML files.\n",
        "\n",
        "- Create an HTML Template: Inside the templates folder, create an HTML file, for example, index.html."
      ]
    },
    {
      "cell_type": "code",
      "execution_count": null,
      "metadata": {
        "id": "B3cGsUp8uCRQ"
      },
      "outputs": [],
      "source": [
        "<!DOCTYPE html>\n",
        "<html lang=\"en\">\n",
        "<head>\n",
        "    <meta charset=\"UTF-8\">\n",
        "    <meta name=\"viewport\" content=\"width=device-width, initial-scale=1.0\">\n",
        "    <title>My Flask App</title>\n",
        "</head>\n",
        "<body>\n",
        "    <h1>Welcome to My Flask App!</h1>\n",
        "</body>\n",
        "</html>"
      ]
    },
    {
      "cell_type": "markdown",
      "metadata": {
        "id": "GF1M9prKuFHL"
      },
      "source": [
        "Define a Route to Render the Template: Use the render_template function in your route to render the HTML file."
      ]
    },
    {
      "cell_type": "code",
      "execution_count": null,
      "metadata": {
        "id": "-fkFy_xOuKiA"
      },
      "outputs": [],
      "source": [
        "@app.route('/')\n",
        "def home():\n",
        "    return render_template('index.html')"
      ]
    },
    {
      "cell_type": "code",
      "execution_count": null,
      "metadata": {
        "id": "Ldgz95-Xumce"
      },
      "outputs": [],
      "source": [
        "if __name__ == '__main__': # Run the Application\n",
        "    app.run(debug=True)"
      ]
    },
    {
      "cell_type": "markdown",
      "metadata": {
        "id": "iLeDFSItuyFF"
      },
      "source": [
        "5. How can you generate URLs for routes in Flask using url_for ?"
      ]
    },
    {
      "cell_type": "code",
      "execution_count": null,
      "metadata": {
        "id": "pBm-6_A1u_Nz"
      },
      "outputs": [],
      "source": [
        "from flask import Flask, url_for, render_template\n",
        "\n",
        "app = Flask(__name__)\n",
        "\n",
        "@app.route('/')\n",
        "def home():\n",
        "    return render_template('index.html')\n",
        "\n",
        "@app.route('/user/<username>')\n",
        "def user_profile(username):\n",
        "    return f\"User  Profile: {username}\"\n",
        "\n",
        "@app.route('/post/<int:post_id>')\n",
        "def show_post(post_id):\n",
        "    return f\"Post ID: {post_id}\"\n",
        "\n",
        "@app.route('/redirect')\n",
        "def redirect_to_user():\n",
        "    # Generate a URL for the user_profile function\n",
        "    user_url = url_for('user_profile', username='john_doe')\n",
        "    return f\"Redirecting to: {user_url}\"\n",
        "\n",
        "if __name__ == '__main__':\n",
        "    app.run(debug=True)"
      ]
    },
    {
      "cell_type": "markdown",
      "metadata": {
        "id": "GJox1ylgvBET"
      },
      "source": [
        "6. How do you handle forms in Flask ?\n",
        "-  Project Structure :"
      ]
    },
    {
      "cell_type": "code",
      "execution_count": null,
      "metadata": {
        "id": "jg400A6SvqN1"
      },
      "outputs": [],
      "source": [
        "my_flask_app/\n",
        "│\n",
        "├── app.py\n",
        "├── templates/\n",
        "│   └── form.html"
      ]
    },
    {
      "cell_type": "markdown",
      "metadata": {
        "id": "UDXVSeB_wLFe"
      },
      "source": [
        "- Create the Flask Application\n",
        "app.py"
      ]
    },
    {
      "cell_type": "code",
      "execution_count": null,
      "metadata": {
        "id": "VUecrhX4v0q_"
      },
      "outputs": [],
      "source": [
        "from flask import Flask, request, render_template\n",
        "\n",
        "app = Flask(__name__)\n",
        "\n",
        "# Route to display the form\n",
        "@app.route('/form', methods=['GET'])\n",
        "def show_form():\n",
        "    return render_template('form.html')\n",
        "\n",
        "# Route to handle form submission\n",
        "@app.route('/submit', methods=['POST'])\n",
        "def handle_form():\n",
        "    # Access form data using request.form\n",
        "    name = request.form.get('name')\n",
        "    email = request.form.get('email')\n",
        "    return f\"Received: Name = {name}, Email = {email}\"\n",
        "\n",
        "if __name__ == '__main__':\n",
        "    app.run(debug=True)"
      ]
    },
    {
      "cell_type": "markdown",
      "metadata": {
        "id": "EERnxhfpwSGA"
      },
      "source": [
        "- Create a Simple HTML Form"
      ]
    },
    {
      "cell_type": "code",
      "execution_count": null,
      "metadata": {
        "id": "I0IMKY_bwJSd"
      },
      "outputs": [],
      "source": [
        "<!DOCTYPE html>\n",
        "<html lang=\"en\">\n",
        "<head>\n",
        "    <meta charset=\"UTF-8\">\n",
        "    <meta name=\"viewport\" content=\"width=device-width, initial-scale=1.0\">\n",
        "    <title>Form Example</title>\n",
        "</head>\n",
        "<body>\n",
        "    <h1>Submit Form</h1>\n",
        "    <form action=\"/submit\" method=\"POST\">\n",
        "        <label for=\"name\">Name:</label>\n",
        "        <input type=\"text\" id=\"name\" name=\"name\" required><br><br>\n",
        "        <label for=\"email\">Email:</label>\n",
        "        <input type=\"email\" id=\"email\" name=\"email\" required><br><br>\n",
        "        <button type=\"submit\">Submit</button>\n",
        "    </form>\n",
        "</body>\n",
        "</html>"
      ]
    },
    {
      "cell_type": "markdown",
      "metadata": {
        "id": "HSSw7DFlwaFd"
      },
      "source": [
        "7. How can you validate form data in Flask ?\n",
        "- We can use Manual Form Validation Using request.form"
      ]
    },
    {
      "cell_type": "code",
      "execution_count": null,
      "metadata": {
        "id": "nITmWRCuxCTu"
      },
      "outputs": [],
      "source": [
        "from flask import Flask, render_template, request\n",
        "\n",
        "app = Flask(__name__)\n",
        "\n",
        "@app.route('/')\n",
        "def form():\n",
        "    return render_template('form.html')\n",
        "\n",
        "@app.route('/submit', methods=['POST'])\n",
        "def submit():\n",
        "    name = request.form.get('name')\n",
        "    email = request.form.get('email')\n",
        "\n",
        "    # Basic validation checks\n",
        "    if not name or not email:\n",
        "        return \"Error: Both name and email are required!\"\n",
        "\n",
        "    if '@' not in email:\n",
        "        return \"Error: Please enter a valid email address!\"\n",
        "\n",
        "    return f\"Form submitted successfully! Name: {name}, Email: {email}\"\n",
        "\n",
        "if __name__ == '__main__':\n",
        "    app.run(debug=True)\n"
      ]
    },
    {
      "cell_type": "markdown",
      "metadata": {
        "id": "8xaoe4d6xodb"
      },
      "source": [
        "9. How do you manage sessions in Flask ?\n",
        "- Import and Configure Flask Session :"
      ]
    },
    {
      "cell_type": "code",
      "source": [
        "from flask import Flask, session, redirect, url_for, request\n",
        "\n",
        "app = Flask(__name__)\n",
        "\n",
        "# Secret key used to encrypt session data\n",
        "app.secret_key = 'supersecretkey'\n"
      ],
      "metadata": {
        "id": "kk48uSqJDzea"
      },
      "execution_count": null,
      "outputs": []
    },
    {
      "cell_type": "markdown",
      "source": [
        "- Storing and Retrieving Data Using Sessions"
      ],
      "metadata": {
        "id": "iMZF6evcD1-f"
      }
    },
    {
      "cell_type": "code",
      "source": [
        "@app.route('/')\n",
        "def home():\n",
        "    if 'username' in session:\n",
        "        return f\"Welcome back, {session['username']}!\"\n",
        "    return \"Welcome! Please log in.\"\n",
        "\n",
        "@app.route('/login', methods=['POST', 'GET'])\n",
        "def login():\n",
        "    if request.method == 'POST':\n",
        "        username = request.form['username']\n",
        "        session['username'] = username\n",
        "        return redirect(url_for('home'))\n",
        "    return '''\n",
        "        <form method=\"post\">\n",
        "            Username: <input type=\"text\" name=\"username\">\n",
        "            <input type=\"submit\" value=\"Login\">\n",
        "        </form>\n",
        "    '''\n",
        "\n",
        "@app.route('/logout')\n",
        "def logout():\n",
        "    session.pop('username', None)  # Remove the username from session\n",
        "    return redirect(url_for('home'))\n",
        "\n",
        "if __name__ == '__main__':\n",
        "    app.run(debug=True)\n"
      ],
      "metadata": {
        "id": "-hgKZlIXD-xW"
      },
      "execution_count": null,
      "outputs": []
    },
    {
      "cell_type": "markdown",
      "source": [
        "- session['username'] = username → Stores the username in the session.\n",
        "- session.pop('username', None) → Logs the user out by removing the username from the session.\n",
        "- 'username' in session → Checks if the user is logged in.\n"
      ],
      "metadata": {
        "id": "WjnR1qLNEGc-"
      }
    },
    {
      "cell_type": "markdown",
      "metadata": {
        "id": "f9FeZS2SspW8"
      },
      "source": [
        "9. How do you redirect to a different route in Flask ?\n",
        "- In Flask, you can redirect users to a different route using the redirect() function."
      ]
    },
    {
      "cell_type": "code",
      "source": [
        "from flask import Flask, redirect, url_for\n",
        "\n",
        "app = Flask(__name__)\n",
        "\n",
        "@app.route('/')\n",
        "def home():\n",
        "    return \"Welcome to the Home Page!\"\n",
        "\n",
        "@app.route('/go-home')\n",
        "def go_home():\n",
        "    return redirect(url_for('home'))\n",
        "\n",
        "@app.route('/user/<name>')\n",
        "def user(name):\n",
        "    return f\"Hello, {name}!\"\n",
        "\n",
        "@app.route('/redirect-user/<name>')\n",
        "def redirect_user(name):\n",
        "    return redirect(url_for('user', name=name))\n",
        "\n",
        "if __name__ == '__main__':\n",
        "    app.run(debug=True)\n"
      ],
      "metadata": {
        "id": "QuJyI3zsEhJm"
      },
      "execution_count": null,
      "outputs": []
    },
    {
      "cell_type": "markdown",
      "source": [
        "- redirect() → Redirects the user to a different route.\n",
        "- url_for('function_name') → Generates the URL for a specific route using the function name.\n",
        "- url_for('user', name='John') → Passes parameters using url_for() when required.\n"
      ],
      "metadata": {
        "id": "vdwTpJ1hEwXM"
      }
    },
    {
      "cell_type": "markdown",
      "source": [
        " 10. How do you handle errors in Flask (e.g., 404) ?\n",
        " - Flask provides the @app.errorhandler() decorator to catch and handle specific HTTP errors"
      ],
      "metadata": {
        "id": "vydztTFbE0Ea"
      }
    },
    {
      "cell_type": "code",
      "source": [
        "from flask import Flask, render_template\n",
        "\n",
        "app = Flask(__name__)\n",
        "\n",
        "@app.route('/')\n",
        "def home():\n",
        "    return \"Welcome to the Home Page!\"\n",
        "\n",
        "@app.errorhandler(404)\n",
        "def page_not_found(e):\n",
        "    return render_template('404.html'), 404\n",
        "\n",
        "@app.errorhandler(500)\n",
        "def internal_server_error(e):\n",
        "    return \"An internal error occurred. Please try again later.\", 500\n",
        "\n",
        "if __name__ == \"__main__\":\n",
        "    app.run(debug=True)\n"
      ],
      "metadata": {
        "id": "DRFYuntqFSEn"
      },
      "execution_count": null,
      "outputs": []
    },
    {
      "cell_type": "markdown",
      "source": [
        "- @app.errorhandler(404) → Catches 404 errors (e.g., invalid URLs).\n",
        "- render_template('404.html') → Displays a custom HTML error page.\n",
        "- @app.errorhandler(500) → Handles server-side errors using the 500 error code.\n",
        "- debug=True → During development, detailed error messages are shown.\n"
      ],
      "metadata": {
        "id": "r8GP5PR3FfpI"
      }
    },
    {
      "cell_type": "markdown",
      "source": [
        " 11. How do you structure a Flask app using Blueprints ?"
      ],
      "metadata": {
        "id": "m2itHSlfFmvC"
      }
    },
    {
      "cell_type": "markdown",
      "source": [
        " Start by creating a new directory for your blueprint. Inside this directory, create an __init__.py file to define the blueprint."
      ],
      "metadata": {
        "id": "vhyWJOmLHDC6"
      }
    },
    {
      "cell_type": "code",
      "source": [
        "from flask import Blueprint\n",
        "\n",
        "bp = Blueprint('blueprint_name', __name__)\n",
        "\n",
        "from . import routes  # Import routes to register them with the blueprint"
      ],
      "metadata": {
        "id": "P1IoqlG4JyW0"
      },
      "execution_count": null,
      "outputs": []
    },
    {
      "cell_type": "markdown",
      "source": [
        "Create Routes: In a separate file (e.g., routes.py), define the routes associated with the blueprint."
      ],
      "metadata": {
        "id": "9zRv1nTTJzeC"
      }
    },
    {
      "cell_type": "code",
      "source": [
        "from flask import render_template\n",
        "from . import bp\n",
        "\n",
        "@bp.route('/')\n",
        "def index():\n",
        "    return render_template('index.html')"
      ],
      "metadata": {
        "id": "ztYXJlxZJqhS"
      },
      "execution_count": null,
      "outputs": []
    },
    {
      "cell_type": "markdown",
      "source": [
        "Register the blueprint with the Flask application instance."
      ],
      "metadata": {
        "id": "h5j3ip1UJ41x"
      }
    },
    {
      "cell_type": "code",
      "source": [
        "from flask import Flask\n",
        "from .blueprint_name import bp as blueprint_name_bp\n",
        "\n",
        "def create_app():\n",
        "    app = Flask(__name__)\n",
        "    app.register_blueprint(blueprint_name_bp, url_prefix='/blueprint_name')\n",
        "    return app"
      ],
      "metadata": {
        "id": "_nCztG7FJ-IO"
      },
      "execution_count": null,
      "outputs": []
    },
    {
      "cell_type": "markdown",
      "source": [
        "Organize Your Files: A typical directory structure for a Flask app using blueprints might look like this:"
      ],
      "metadata": {
        "id": "41CgwSrVKJmS"
      }
    },
    {
      "cell_type": "code",
      "source": [
        "myapp/\n",
        "├── app/\n",
        "│   ├── __init__.py\n",
        "│   ├── blueprint_name/\n",
        "│   │   ├── __init__.py\n",
        "│   │   ├── routes.py\n",
        "│   │   └── templates/\n",
        "│   │       └── index.html\n",
        "│   └── templates/\n",
        "│       └── base.html\n",
        "├── config.py\n",
        "└── run.py"
      ],
      "metadata": {
        "id": "xHhUG75lKKXC"
      },
      "execution_count": null,
      "outputs": []
    },
    {
      "cell_type": "markdown",
      "source": [
        "You can create a templates folder within each blueprint to store templates specific to that blueprint. Use the render_template function to render these templates."
      ],
      "metadata": {
        "id": "mKdJ4lZZKOey"
      }
    },
    {
      "cell_type": "code",
      "source": [
        "@bp.route('/about')\n",
        "def about():\n",
        "    return render_template('blueprint_name/about.html')"
      ],
      "metadata": {
        "id": "OSwijd6GKbz6"
      },
      "execution_count": null,
      "outputs": []
    },
    {
      "cell_type": "markdown",
      "source": [
        "12. How do you define a custom Jinja filter in Flask ?\n",
        "\n",
        "- By using : app.jinja_env.filters we can create jinja filter in Flask"
      ],
      "metadata": {
        "id": "GzuigqlDKszw"
      }
    },
    {
      "cell_type": "code",
      "source": [
        "def double_text(s):\n",
        "    return s * 2\n",
        "\n",
        "app.jinja_env.filters['double'] = double_text\n",
        "\n",
        "@app.route('/double')\n",
        "def double_route():\n",
        "    return render_template('index.html', text=\"Hello\")\n"
      ],
      "metadata": {
        "colab": {
          "base_uri": "https://localhost:8080/",
          "height": 211
        },
        "collapsed": true,
        "id": "oAjTrqKpLATD",
        "outputId": "54e9e6d4-c195-492a-845c-7f6b1249a82d"
      },
      "execution_count": 1,
      "outputs": [
        {
          "output_type": "error",
          "ename": "NameError",
          "evalue": "name 'app' is not defined",
          "traceback": [
            "\u001b[0;31m---------------------------------------------------------------------------\u001b[0m",
            "\u001b[0;31mNameError\u001b[0m                                 Traceback (most recent call last)",
            "\u001b[0;32m<ipython-input-1-847c9723647d>\u001b[0m in \u001b[0;36m<cell line: 0>\u001b[0;34m()\u001b[0m\n\u001b[1;32m      2\u001b[0m     \u001b[0;32mreturn\u001b[0m \u001b[0ms\u001b[0m \u001b[0;34m*\u001b[0m \u001b[0;36m2\u001b[0m\u001b[0;34m\u001b[0m\u001b[0;34m\u001b[0m\u001b[0m\n\u001b[1;32m      3\u001b[0m \u001b[0;34m\u001b[0m\u001b[0m\n\u001b[0;32m----> 4\u001b[0;31m \u001b[0mapp\u001b[0m\u001b[0;34m.\u001b[0m\u001b[0mjinja_env\u001b[0m\u001b[0;34m.\u001b[0m\u001b[0mfilters\u001b[0m\u001b[0;34m[\u001b[0m\u001b[0;34m'double'\u001b[0m\u001b[0;34m]\u001b[0m \u001b[0;34m=\u001b[0m \u001b[0mdouble_text\u001b[0m\u001b[0;34m\u001b[0m\u001b[0;34m\u001b[0m\u001b[0m\n\u001b[0m\u001b[1;32m      5\u001b[0m \u001b[0;34m\u001b[0m\u001b[0m\n\u001b[1;32m      6\u001b[0m \u001b[0;34m@\u001b[0m\u001b[0mapp\u001b[0m\u001b[0;34m.\u001b[0m\u001b[0mroute\u001b[0m\u001b[0;34m(\u001b[0m\u001b[0;34m'/double'\u001b[0m\u001b[0;34m)\u001b[0m\u001b[0;34m\u001b[0m\u001b[0;34m\u001b[0m\u001b[0m\n",
            "\u001b[0;31mNameError\u001b[0m: name 'app' is not defined"
          ]
        }
      ]
    },
    {
      "cell_type": "markdown",
      "source": [
        "In index HTML"
      ],
      "metadata": {
        "id": "XNUeIiynLpP1"
      }
    },
    {
      "cell_type": "code",
      "source": [
        "<h1>Original: {{ text }}</h1>\n",
        "<h1>Doubled: {{ text | double }}</h1>\n"
      ],
      "metadata": {
        "id": "kEYw-5ICLNpv"
      },
      "execution_count": null,
      "outputs": []
    },
    {
      "cell_type": "markdown",
      "source": [
        "Output"
      ],
      "metadata": {
        "id": "WoKXDQB3NBhc"
      }
    },
    {
      "cell_type": "code",
      "source": [
        "Original: Hello\n",
        "Doubled: HelloHello\n"
      ],
      "metadata": {
        "id": "aMSKaKCiMkTO"
      },
      "execution_count": null,
      "outputs": []
    },
    {
      "cell_type": "markdown",
      "source": [
        "13. How can you redirect with query parameters in Flask ?\n",
        "- In Flask, you can redirect with query parameters using the redirect() function along with url_for().\n",
        "- Redirect with Query Parameters"
      ],
      "metadata": {
        "id": "17uEuP2HNFtw"
      }
    },
    {
      "cell_type": "code",
      "source": [
        "from flask import Flask, redirect, url_for, request\n",
        "\n",
        "app = Flask(__name__)\n",
        "\n",
        "# Route to redirect to 'welcome' with query parameters\n",
        "@app.route('/login')\n",
        "def login():\n",
        "    username = request.args.get('username', 'Guest')\n",
        "    return redirect(url_for('welcome', name=username))\n",
        "\n",
        "# Welcome route that receives query parameter\n",
        "@app.route('/welcome')\n",
        "def welcome():\n",
        "    name = request.args.get('name')\n",
        "    return f\"Welcome, {name}!\"\n",
        "\n",
        "if __name__ == '__main__':\n",
        "    app.run(debug=True)\n"
      ],
      "metadata": {
        "id": "T07bP-y4PLlS"
      },
      "execution_count": null,
      "outputs": []
    },
    {
      "cell_type": "markdown",
      "source": [
        "- request.args.get() → Extracts query parameters from the URL.\n",
        "- redirect() → Redirects to the /welcome route.\n",
        "- url_for('welcome', name=username) → Generates a URL with the query parameter name."
      ],
      "metadata": {
        "id": "ceeMVMGmPbqi"
      }
    },
    {
      "cell_type": "markdown",
      "source": [
        "14. How do you return JSON responses in Flask ?\n",
        "- You can return a JSON response using jsonify() by passing a Python dictionary or list."
      ],
      "metadata": {
        "id": "BUNtylKBPhRM"
      }
    },
    {
      "cell_type": "code",
      "source": [
        "from flask import Flask, jsonify\n",
        "\n",
        "app = Flask(__name__)\n",
        "\n",
        "@app.route('/data')\n",
        "def data():\n",
        "    response_data = {\n",
        "        \"status\": \"success\",\n",
        "        \"message\": \"Hello, Flask!\",\n",
        "        \"data\": {\"name\": \"Alice\", \"age\": 25}\n",
        "    }\n",
        "    return jsonify(response_data)\n",
        "\n",
        "if __name__ == \"__main__\":\n",
        "    app.run(debug=True)\n"
      ],
      "metadata": {
        "colab": {
          "base_uri": "https://localhost:8080/"
        },
        "collapsed": true,
        "id": "BYOuwbcVPmRY",
        "outputId": "15f0bf2d-b906-4d1b-b7be-24a5f5fe4e27"
      },
      "execution_count": null,
      "outputs": [
        {
          "output_type": "stream",
          "name": "stdout",
          "text": [
            " * Serving Flask app '__main__'\n",
            " * Debug mode: on\n"
          ]
        },
        {
          "output_type": "stream",
          "name": "stderr",
          "text": [
            "INFO:werkzeug:\u001b[31m\u001b[1mWARNING: This is a development server. Do not use it in a production deployment. Use a production WSGI server instead.\u001b[0m\n",
            " * Running on http://127.0.0.1:5000\n",
            "INFO:werkzeug:\u001b[33mPress CTRL+C to quit\u001b[0m\n",
            "INFO:werkzeug: * Restarting with stat\n"
          ]
        }
      ]
    },
    {
      "cell_type": "markdown",
      "source": [
        "Output"
      ],
      "metadata": {
        "id": "obYlAFo0P5Qc"
      }
    },
    {
      "cell_type": "code",
      "source": [
        "{\n",
        "  \"status\": \"success\",\n",
        "  \"message\": \"Hello, Flask!\",\n",
        "  \"data\": {\n",
        "    \"name\": \"Alice\",\n",
        "    \"age\": 25\n",
        "  }\n",
        "}\n"
      ],
      "metadata": {
        "id": "YjlkU0GQOJuN"
      },
      "execution_count": null,
      "outputs": []
    },
    {
      "cell_type": "markdown",
      "source": [
        "15. How do you capture URL parameters in Flask ?"
      ],
      "metadata": {
        "id": "4PHMCtrmP86S"
      }
    },
    {
      "cell_type": "markdown",
      "source": [
        "- You can capture URL parameters using angle brackets (< >) inside the @app.route() decorator."
      ],
      "metadata": {
        "id": "k2O2TQuwQebS"
      }
    },
    {
      "cell_type": "code",
      "source": [
        "from flask import Flask\n",
        "\n",
        "app = Flask(__name__)\n",
        "\n",
        "# Capture 'username' from the URL\n",
        "@app.route('/user/<username>')\n",
        "def show_user(username):\n",
        "    return f\"Hello, {username}!\"\n",
        "\n",
        "if __name__ == '__main__':\n",
        "    app.run(debug=True)\n"
      ],
      "metadata": {
        "id": "6bP5Aw4hQOcY"
      },
      "execution_count": null,
      "outputs": []
    },
    {
      "cell_type": "code",
      "source": [
        "http://127.0.0.1:5000/user/Alice # URL"
      ],
      "metadata": {
        "id": "E3XtUpgZQTaK"
      },
      "execution_count": null,
      "outputs": []
    },
    {
      "cell_type": "code",
      "source": [
        "Hello, Alice! # Output"
      ],
      "metadata": {
        "id": "9CyrIOlKQTPd"
      },
      "execution_count": null,
      "outputs": []
    }
  ],
  "metadata": {
    "colab": {
      "provenance": []
    },
    "kernelspec": {
      "display_name": "Python 3",
      "name": "python3"
    },
    "language_info": {
      "name": "python"
    }
  },
  "nbformat": 4,
  "nbformat_minor": 0
}